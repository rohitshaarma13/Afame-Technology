{
  "nbformat": 4,
  "nbformat_minor": 0,
  "metadata": {
    "colab": {
      "provenance": [],
      "authorship_tag": "ABX9TyP/wrUUiJzm3perImtrsvJJ",
      "include_colab_link": true
    },
    "kernelspec": {
      "name": "python3",
      "display_name": "Python 3"
    },
    "language_info": {
      "name": "python"
    }
  },
  "cells": [
    {
      "cell_type": "markdown",
      "metadata": {
        "id": "view-in-github",
        "colab_type": "text"
      },
      "source": [
        "<a href=\"https://colab.research.google.com/github/Kartikawasthi144/HR-data-analysis/blob/main/HR_Data_Analysis.ipynb\" target=\"_parent\"><img src=\"https://colab.research.google.com/assets/colab-badge.svg\" alt=\"Open In Colab\"/></a>"
      ]
    },
    {
      "cell_type": "code",
      "execution_count": 1,
      "metadata": {
        "id": "MN_u9NYiAZmG"
      },
      "outputs": [],
      "source": [
        "import pandas as pd\n"
      ]
    },
    {
      "cell_type": "code",
      "source": [
        "hr_data = pd.read_csv('/content/HR Data (3).csv')"
      ],
      "metadata": {
        "id": "lkF8Z-l_AdV-"
      },
      "execution_count": 2,
      "outputs": []
    },
    {
      "cell_type": "code",
      "source": [
        "hr_data.head()"
      ],
      "metadata": {
        "colab": {
          "base_uri": "https://localhost:8080/",
          "height": 325
        },
        "id": "IzrYlVTHA4gi",
        "outputId": "bb1d4e85-5da1-4dea-c3b8-0368965a88a1"
      },
      "execution_count": 3,
      "outputs": [
        {
          "output_type": "execute_result",
          "data": {
            "text/plain": [
              "   Age Attrition     BusinessTravel  DailyRate              Department  \\\n",
              "0   41       Yes      Travel_Rarely       1102                   Sales   \n",
              "1   49        No  Travel_Frequently        279  Research & Development   \n",
              "2   37       Yes      Travel_Rarely       1373  Research & Development   \n",
              "3   33        No  Travel_Frequently       1392  Research & Development   \n",
              "4   27        No      Travel_Rarely        591  Research & Development   \n",
              "\n",
              "   DistanceFromHome  Education EducationField  EmployeeCount  EmployeeNumber  \\\n",
              "0                 1          2  Life Sciences              1               1   \n",
              "1                 8          1  Life Sciences              1               2   \n",
              "2                 2          2          Other              1               4   \n",
              "3                 3          4  Life Sciences              1               5   \n",
              "4                 2          1        Medical              1               7   \n",
              "\n",
              "   ...  RelationshipSatisfaction StandardHours  StockOptionLevel  \\\n",
              "0  ...                         1            80                 0   \n",
              "1  ...                         4            80                 1   \n",
              "2  ...                         2            80                 0   \n",
              "3  ...                         3            80                 0   \n",
              "4  ...                         4            80                 1   \n",
              "\n",
              "   TotalWorkingYears  TrainingTimesLastYear WorkLifeBalance  YearsAtCompany  \\\n",
              "0                  8                      0               1               6   \n",
              "1                 10                      3               3              10   \n",
              "2                  7                      3               3               0   \n",
              "3                  8                      3               3               8   \n",
              "4                  6                      3               3               2   \n",
              "\n",
              "  YearsInCurrentRole  YearsSinceLastPromotion  YearsWithCurrManager  \n",
              "0                  4                        0                     5  \n",
              "1                  7                        1                     7  \n",
              "2                  0                        0                     0  \n",
              "3                  7                        3                     0  \n",
              "4                  2                        2                     2  \n",
              "\n",
              "[5 rows x 35 columns]"
            ],
            "text/html": [
              "\n",
              "  <div id=\"df-a336578a-cffd-4023-8018-b5c1489f973b\" class=\"colab-df-container\">\n",
              "    <div>\n",
              "<style scoped>\n",
              "    .dataframe tbody tr th:only-of-type {\n",
              "        vertical-align: middle;\n",
              "    }\n",
              "\n",
              "    .dataframe tbody tr th {\n",
              "        vertical-align: top;\n",
              "    }\n",
              "\n",
              "    .dataframe thead th {\n",
              "        text-align: right;\n",
              "    }\n",
              "</style>\n",
              "<table border=\"1\" class=\"dataframe\">\n",
              "  <thead>\n",
              "    <tr style=\"text-align: right;\">\n",
              "      <th></th>\n",
              "      <th>Age</th>\n",
              "      <th>Attrition</th>\n",
              "      <th>BusinessTravel</th>\n",
              "      <th>DailyRate</th>\n",
              "      <th>Department</th>\n",
              "      <th>DistanceFromHome</th>\n",
              "      <th>Education</th>\n",
              "      <th>EducationField</th>\n",
              "      <th>EmployeeCount</th>\n",
              "      <th>EmployeeNumber</th>\n",
              "      <th>...</th>\n",
              "      <th>RelationshipSatisfaction</th>\n",
              "      <th>StandardHours</th>\n",
              "      <th>StockOptionLevel</th>\n",
              "      <th>TotalWorkingYears</th>\n",
              "      <th>TrainingTimesLastYear</th>\n",
              "      <th>WorkLifeBalance</th>\n",
              "      <th>YearsAtCompany</th>\n",
              "      <th>YearsInCurrentRole</th>\n",
              "      <th>YearsSinceLastPromotion</th>\n",
              "      <th>YearsWithCurrManager</th>\n",
              "    </tr>\n",
              "  </thead>\n",
              "  <tbody>\n",
              "    <tr>\n",
              "      <th>0</th>\n",
              "      <td>41</td>\n",
              "      <td>Yes</td>\n",
              "      <td>Travel_Rarely</td>\n",
              "      <td>1102</td>\n",
              "      <td>Sales</td>\n",
              "      <td>1</td>\n",
              "      <td>2</td>\n",
              "      <td>Life Sciences</td>\n",
              "      <td>1</td>\n",
              "      <td>1</td>\n",
              "      <td>...</td>\n",
              "      <td>1</td>\n",
              "      <td>80</td>\n",
              "      <td>0</td>\n",
              "      <td>8</td>\n",
              "      <td>0</td>\n",
              "      <td>1</td>\n",
              "      <td>6</td>\n",
              "      <td>4</td>\n",
              "      <td>0</td>\n",
              "      <td>5</td>\n",
              "    </tr>\n",
              "    <tr>\n",
              "      <th>1</th>\n",
              "      <td>49</td>\n",
              "      <td>No</td>\n",
              "      <td>Travel_Frequently</td>\n",
              "      <td>279</td>\n",
              "      <td>Research &amp; Development</td>\n",
              "      <td>8</td>\n",
              "      <td>1</td>\n",
              "      <td>Life Sciences</td>\n",
              "      <td>1</td>\n",
              "      <td>2</td>\n",
              "      <td>...</td>\n",
              "      <td>4</td>\n",
              "      <td>80</td>\n",
              "      <td>1</td>\n",
              "      <td>10</td>\n",
              "      <td>3</td>\n",
              "      <td>3</td>\n",
              "      <td>10</td>\n",
              "      <td>7</td>\n",
              "      <td>1</td>\n",
              "      <td>7</td>\n",
              "    </tr>\n",
              "    <tr>\n",
              "      <th>2</th>\n",
              "      <td>37</td>\n",
              "      <td>Yes</td>\n",
              "      <td>Travel_Rarely</td>\n",
              "      <td>1373</td>\n",
              "      <td>Research &amp; Development</td>\n",
              "      <td>2</td>\n",
              "      <td>2</td>\n",
              "      <td>Other</td>\n",
              "      <td>1</td>\n",
              "      <td>4</td>\n",
              "      <td>...</td>\n",
              "      <td>2</td>\n",
              "      <td>80</td>\n",
              "      <td>0</td>\n",
              "      <td>7</td>\n",
              "      <td>3</td>\n",
              "      <td>3</td>\n",
              "      <td>0</td>\n",
              "      <td>0</td>\n",
              "      <td>0</td>\n",
              "      <td>0</td>\n",
              "    </tr>\n",
              "    <tr>\n",
              "      <th>3</th>\n",
              "      <td>33</td>\n",
              "      <td>No</td>\n",
              "      <td>Travel_Frequently</td>\n",
              "      <td>1392</td>\n",
              "      <td>Research &amp; Development</td>\n",
              "      <td>3</td>\n",
              "      <td>4</td>\n",
              "      <td>Life Sciences</td>\n",
              "      <td>1</td>\n",
              "      <td>5</td>\n",
              "      <td>...</td>\n",
              "      <td>3</td>\n",
              "      <td>80</td>\n",
              "      <td>0</td>\n",
              "      <td>8</td>\n",
              "      <td>3</td>\n",
              "      <td>3</td>\n",
              "      <td>8</td>\n",
              "      <td>7</td>\n",
              "      <td>3</td>\n",
              "      <td>0</td>\n",
              "    </tr>\n",
              "    <tr>\n",
              "      <th>4</th>\n",
              "      <td>27</td>\n",
              "      <td>No</td>\n",
              "      <td>Travel_Rarely</td>\n",
              "      <td>591</td>\n",
              "      <td>Research &amp; Development</td>\n",
              "      <td>2</td>\n",
              "      <td>1</td>\n",
              "      <td>Medical</td>\n",
              "      <td>1</td>\n",
              "      <td>7</td>\n",
              "      <td>...</td>\n",
              "      <td>4</td>\n",
              "      <td>80</td>\n",
              "      <td>1</td>\n",
              "      <td>6</td>\n",
              "      <td>3</td>\n",
              "      <td>3</td>\n",
              "      <td>2</td>\n",
              "      <td>2</td>\n",
              "      <td>2</td>\n",
              "      <td>2</td>\n",
              "    </tr>\n",
              "  </tbody>\n",
              "</table>\n",
              "<p>5 rows × 35 columns</p>\n",
              "</div>\n",
              "    <div class=\"colab-df-buttons\">\n",
              "\n",
              "  <div class=\"colab-df-container\">\n",
              "    <button class=\"colab-df-convert\" onclick=\"convertToInteractive('df-a336578a-cffd-4023-8018-b5c1489f973b')\"\n",
              "            title=\"Convert this dataframe to an interactive table.\"\n",
              "            style=\"display:none;\">\n",
              "\n",
              "  <svg xmlns=\"http://www.w3.org/2000/svg\" height=\"24px\" viewBox=\"0 -960 960 960\">\n",
              "    <path d=\"M120-120v-720h720v720H120Zm60-500h600v-160H180v160Zm220 220h160v-160H400v160Zm0 220h160v-160H400v160ZM180-400h160v-160H180v160Zm440 0h160v-160H620v160ZM180-180h160v-160H180v160Zm440 0h160v-160H620v160Z\"/>\n",
              "  </svg>\n",
              "    </button>\n",
              "\n",
              "  <style>\n",
              "    .colab-df-container {\n",
              "      display:flex;\n",
              "      gap: 12px;\n",
              "    }\n",
              "\n",
              "    .colab-df-convert {\n",
              "      background-color: #E8F0FE;\n",
              "      border: none;\n",
              "      border-radius: 50%;\n",
              "      cursor: pointer;\n",
              "      display: none;\n",
              "      fill: #1967D2;\n",
              "      height: 32px;\n",
              "      padding: 0 0 0 0;\n",
              "      width: 32px;\n",
              "    }\n",
              "\n",
              "    .colab-df-convert:hover {\n",
              "      background-color: #E2EBFA;\n",
              "      box-shadow: 0px 1px 2px rgba(60, 64, 67, 0.3), 0px 1px 3px 1px rgba(60, 64, 67, 0.15);\n",
              "      fill: #174EA6;\n",
              "    }\n",
              "\n",
              "    .colab-df-buttons div {\n",
              "      margin-bottom: 4px;\n",
              "    }\n",
              "\n",
              "    [theme=dark] .colab-df-convert {\n",
              "      background-color: #3B4455;\n",
              "      fill: #D2E3FC;\n",
              "    }\n",
              "\n",
              "    [theme=dark] .colab-df-convert:hover {\n",
              "      background-color: #434B5C;\n",
              "      box-shadow: 0px 1px 3px 1px rgba(0, 0, 0, 0.15);\n",
              "      filter: drop-shadow(0px 1px 2px rgba(0, 0, 0, 0.3));\n",
              "      fill: #FFFFFF;\n",
              "    }\n",
              "  </style>\n",
              "\n",
              "    <script>\n",
              "      const buttonEl =\n",
              "        document.querySelector('#df-a336578a-cffd-4023-8018-b5c1489f973b button.colab-df-convert');\n",
              "      buttonEl.style.display =\n",
              "        google.colab.kernel.accessAllowed ? 'block' : 'none';\n",
              "\n",
              "      async function convertToInteractive(key) {\n",
              "        const element = document.querySelector('#df-a336578a-cffd-4023-8018-b5c1489f973b');\n",
              "        const dataTable =\n",
              "          await google.colab.kernel.invokeFunction('convertToInteractive',\n",
              "                                                    [key], {});\n",
              "        if (!dataTable) return;\n",
              "\n",
              "        const docLinkHtml = 'Like what you see? Visit the ' +\n",
              "          '<a target=\"_blank\" href=https://colab.research.google.com/notebooks/data_table.ipynb>data table notebook</a>'\n",
              "          + ' to learn more about interactive tables.';\n",
              "        element.innerHTML = '';\n",
              "        dataTable['output_type'] = 'display_data';\n",
              "        await google.colab.output.renderOutput(dataTable, element);\n",
              "        const docLink = document.createElement('div');\n",
              "        docLink.innerHTML = docLinkHtml;\n",
              "        element.appendChild(docLink);\n",
              "      }\n",
              "    </script>\n",
              "  </div>\n",
              "\n",
              "\n",
              "<div id=\"df-0cf74cec-dee7-404a-a6c7-d15ebc5fedd3\">\n",
              "  <button class=\"colab-df-quickchart\" onclick=\"quickchart('df-0cf74cec-dee7-404a-a6c7-d15ebc5fedd3')\"\n",
              "            title=\"Suggest charts\"\n",
              "            style=\"display:none;\">\n",
              "\n",
              "<svg xmlns=\"http://www.w3.org/2000/svg\" height=\"24px\"viewBox=\"0 0 24 24\"\n",
              "     width=\"24px\">\n",
              "    <g>\n",
              "        <path d=\"M19 3H5c-1.1 0-2 .9-2 2v14c0 1.1.9 2 2 2h14c1.1 0 2-.9 2-2V5c0-1.1-.9-2-2-2zM9 17H7v-7h2v7zm4 0h-2V7h2v10zm4 0h-2v-4h2v4z\"/>\n",
              "    </g>\n",
              "</svg>\n",
              "  </button>\n",
              "\n",
              "<style>\n",
              "  .colab-df-quickchart {\n",
              "      --bg-color: #E8F0FE;\n",
              "      --fill-color: #1967D2;\n",
              "      --hover-bg-color: #E2EBFA;\n",
              "      --hover-fill-color: #174EA6;\n",
              "      --disabled-fill-color: #AAA;\n",
              "      --disabled-bg-color: #DDD;\n",
              "  }\n",
              "\n",
              "  [theme=dark] .colab-df-quickchart {\n",
              "      --bg-color: #3B4455;\n",
              "      --fill-color: #D2E3FC;\n",
              "      --hover-bg-color: #434B5C;\n",
              "      --hover-fill-color: #FFFFFF;\n",
              "      --disabled-bg-color: #3B4455;\n",
              "      --disabled-fill-color: #666;\n",
              "  }\n",
              "\n",
              "  .colab-df-quickchart {\n",
              "    background-color: var(--bg-color);\n",
              "    border: none;\n",
              "    border-radius: 50%;\n",
              "    cursor: pointer;\n",
              "    display: none;\n",
              "    fill: var(--fill-color);\n",
              "    height: 32px;\n",
              "    padding: 0;\n",
              "    width: 32px;\n",
              "  }\n",
              "\n",
              "  .colab-df-quickchart:hover {\n",
              "    background-color: var(--hover-bg-color);\n",
              "    box-shadow: 0 1px 2px rgba(60, 64, 67, 0.3), 0 1px 3px 1px rgba(60, 64, 67, 0.15);\n",
              "    fill: var(--button-hover-fill-color);\n",
              "  }\n",
              "\n",
              "  .colab-df-quickchart-complete:disabled,\n",
              "  .colab-df-quickchart-complete:disabled:hover {\n",
              "    background-color: var(--disabled-bg-color);\n",
              "    fill: var(--disabled-fill-color);\n",
              "    box-shadow: none;\n",
              "  }\n",
              "\n",
              "  .colab-df-spinner {\n",
              "    border: 2px solid var(--fill-color);\n",
              "    border-color: transparent;\n",
              "    border-bottom-color: var(--fill-color);\n",
              "    animation:\n",
              "      spin 1s steps(1) infinite;\n",
              "  }\n",
              "\n",
              "  @keyframes spin {\n",
              "    0% {\n",
              "      border-color: transparent;\n",
              "      border-bottom-color: var(--fill-color);\n",
              "      border-left-color: var(--fill-color);\n",
              "    }\n",
              "    20% {\n",
              "      border-color: transparent;\n",
              "      border-left-color: var(--fill-color);\n",
              "      border-top-color: var(--fill-color);\n",
              "    }\n",
              "    30% {\n",
              "      border-color: transparent;\n",
              "      border-left-color: var(--fill-color);\n",
              "      border-top-color: var(--fill-color);\n",
              "      border-right-color: var(--fill-color);\n",
              "    }\n",
              "    40% {\n",
              "      border-color: transparent;\n",
              "      border-right-color: var(--fill-color);\n",
              "      border-top-color: var(--fill-color);\n",
              "    }\n",
              "    60% {\n",
              "      border-color: transparent;\n",
              "      border-right-color: var(--fill-color);\n",
              "    }\n",
              "    80% {\n",
              "      border-color: transparent;\n",
              "      border-right-color: var(--fill-color);\n",
              "      border-bottom-color: var(--fill-color);\n",
              "    }\n",
              "    90% {\n",
              "      border-color: transparent;\n",
              "      border-bottom-color: var(--fill-color);\n",
              "    }\n",
              "  }\n",
              "</style>\n",
              "\n",
              "  <script>\n",
              "    async function quickchart(key) {\n",
              "      const quickchartButtonEl =\n",
              "        document.querySelector('#' + key + ' button');\n",
              "      quickchartButtonEl.disabled = true;  // To prevent multiple clicks.\n",
              "      quickchartButtonEl.classList.add('colab-df-spinner');\n",
              "      try {\n",
              "        const charts = await google.colab.kernel.invokeFunction(\n",
              "            'suggestCharts', [key], {});\n",
              "      } catch (error) {\n",
              "        console.error('Error during call to suggestCharts:', error);\n",
              "      }\n",
              "      quickchartButtonEl.classList.remove('colab-df-spinner');\n",
              "      quickchartButtonEl.classList.add('colab-df-quickchart-complete');\n",
              "    }\n",
              "    (() => {\n",
              "      let quickchartButtonEl =\n",
              "        document.querySelector('#df-0cf74cec-dee7-404a-a6c7-d15ebc5fedd3 button');\n",
              "      quickchartButtonEl.style.display =\n",
              "        google.colab.kernel.accessAllowed ? 'block' : 'none';\n",
              "    })();\n",
              "  </script>\n",
              "</div>\n",
              "\n",
              "    </div>\n",
              "  </div>\n"
            ],
            "application/vnd.google.colaboratory.intrinsic+json": {
              "type": "dataframe",
              "variable_name": "hr_data"
            }
          },
          "metadata": {},
          "execution_count": 3
        }
      ]
    },
    {
      "cell_type": "markdown",
      "source": [
        "Removing unnecessary columns"
      ],
      "metadata": {
        "id": "3_KP0hSlCMWJ"
      }
    },
    {
      "cell_type": "code",
      "source": [
        "unnecessary_columns = ['EmployeeCount', 'EmployeeNumber', 'Over18', 'StandardHours']"
      ],
      "metadata": {
        "id": "pLmxh7HBBJNs"
      },
      "execution_count": 5,
      "outputs": []
    },
    {
      "cell_type": "code",
      "source": [
        "hr_data_cleaned = hr_data.drop(columns=unnecessary_columns)"
      ],
      "metadata": {
        "id": "TuN5435yD6TI"
      },
      "execution_count": 8,
      "outputs": []
    },
    {
      "cell_type": "code",
      "source": [
        "#Rename Columns"
      ],
      "metadata": {
        "id": "8shrmLYIEgfS"
      },
      "execution_count": 9,
      "outputs": []
    },
    {
      "cell_type": "code",
      "source": [
        "new_column_names = {\n",
        "    'Age': 'Age',\n",
        "    'Attrition': 'Attrition',\n",
        "    'BusinessTravel': 'Business_Travel',\n",
        "    'DailyRate': 'Daily_Rate',\n",
        "    'Department': 'Department',\n",
        "    'DistanceFromHome': 'Distance_From_Home',\n",
        "    'Education': 'Education',\n",
        "    'EducationField': 'Education_Field',\n",
        "    'EnvironmentSatisfaction': 'Environment_Satisfaction',\n",
        "    'Gender': 'Gender',\n",
        "    'HourlyRate': 'Hourly_Rate',\n",
        "    'JobInvolvement': 'Job_Involvement',\n",
        "    'JobLevel': 'Job_Level',\n",
        "    'JobRole': 'Job_Role',\n",
        "    'JobSatisfaction': 'Job_Satisfaction',\n",
        "    'MaritalStatus': 'Marital_Status',\n",
        "    'MonthlyIncome': 'Monthly_Income',\n",
        "    'MonthlyRate': 'Monthly_Rate',\n",
        "    'NumCompaniesWorked': 'Num_Companies_Worked',\n",
        "    'OverTime': 'Over_Time',\n",
        "    'PercentSalaryHike': 'Percent_Salary_Hike',\n",
        "    'PerformanceRating': 'Performance_Rating',\n",
        "    'RelationshipSatisfaction': 'Relationship_Satisfaction',\n",
        "    'StockOptionLevel': 'Stock_Option_Level',\n",
        "    'TotalWorkingYears': 'Total_Working_Years',\n",
        "    'TrainingTimesLastYear': 'Training_Times_Last_Year',\n",
        "    'WorkLifeBalance': 'Work_Life_Balance',\n",
        "    'YearsAtCompany': 'Years_At_Company',\n",
        "    'YearsInCurrentRole': 'Years_In_Current_Role',\n",
        "    'YearsSinceLastPromotion': 'Years_Since_Last_Promotion',\n",
        "    'YearsWithCurrManager': 'Years_With_Curr_Manager'\n",
        "}"
      ],
      "metadata": {
        "id": "V_rg7oUVEv7Q"
      },
      "execution_count": 10,
      "outputs": []
    },
    {
      "cell_type": "code",
      "source": [
        "hr_data_cleaned = hr_data_cleaned.rename(columns=new_column_names)"
      ],
      "metadata": {
        "id": "LetfVcSIEw_V"
      },
      "execution_count": 11,
      "outputs": []
    },
    {
      "cell_type": "code",
      "source": [
        "# Display the cleaned dataset\n",
        "\n",
        "print(hr_data_cleaned.head())\n"
      ],
      "metadata": {
        "colab": {
          "base_uri": "https://localhost:8080/"
        },
        "id": "dJGb8TbIE9_w",
        "outputId": "3e15e01c-2b44-474f-938e-8ee73032a031"
      },
      "execution_count": 12,
      "outputs": [
        {
          "output_type": "stream",
          "name": "stdout",
          "text": [
            "   Age Attrition    Business_Travel  Daily_Rate              Department  \\\n",
            "0   41       Yes      Travel_Rarely        1102                   Sales   \n",
            "1   49        No  Travel_Frequently         279  Research & Development   \n",
            "2   37       Yes      Travel_Rarely        1373  Research & Development   \n",
            "3   33        No  Travel_Frequently        1392  Research & Development   \n",
            "4   27        No      Travel_Rarely         591  Research & Development   \n",
            "\n",
            "   Distance_From_Home  Education Education_Field  Environment_Satisfaction  \\\n",
            "0                   1          2   Life Sciences                         2   \n",
            "1                   8          1   Life Sciences                         3   \n",
            "2                   2          2           Other                         4   \n",
            "3                   3          4   Life Sciences                         4   \n",
            "4                   2          1         Medical                         1   \n",
            "\n",
            "   Gender  ...  Performance_Rating  Relationship_Satisfaction  \\\n",
            "0  Female  ...                   3                          1   \n",
            "1    Male  ...                   4                          4   \n",
            "2    Male  ...                   3                          2   \n",
            "3  Female  ...                   3                          3   \n",
            "4    Male  ...                   3                          4   \n",
            "\n",
            "   Stock_Option_Level Total_Working_Years  Training_Times_Last_Year  \\\n",
            "0                   0                   8                         0   \n",
            "1                   1                  10                         3   \n",
            "2                   0                   7                         3   \n",
            "3                   0                   8                         3   \n",
            "4                   1                   6                         3   \n",
            "\n",
            "  Work_Life_Balance  Years_At_Company  Years_In_Current_Role  \\\n",
            "0                 1                 6                      4   \n",
            "1                 3                10                      7   \n",
            "2                 3                 0                      0   \n",
            "3                 3                 8                      7   \n",
            "4                 3                 2                      2   \n",
            "\n",
            "   Years_Since_Last_Promotion Years_With_Curr_Manager  \n",
            "0                           0                       5  \n",
            "1                           1                       7  \n",
            "2                           0                       0  \n",
            "3                           3                       0  \n",
            "4                           2                       2  \n",
            "\n",
            "[5 rows x 31 columns]\n"
          ]
        }
      ]
    },
    {
      "cell_type": "markdown",
      "source": [
        "# Save the cleaned dataset"
      ],
      "metadata": {
        "id": "uUhGTeXGFZM9"
      }
    },
    {
      "cell_type": "code",
      "source": [
        "hr_data_cleaned.to_csv('cleaned_hr_data.csv', index=False)"
      ],
      "metadata": {
        "id": "LfWGQSvRFQIc"
      },
      "execution_count": 14,
      "outputs": []
    },
    {
      "cell_type": "markdown",
      "source": [
        "Sanitizing Specific Columns"
      ],
      "metadata": {
        "id": "4SnaYzUbGK8G"
      }
    },
    {
      "cell_type": "code",
      "source": [
        "# 1. Sanitize 'Gender' column\n",
        "# Standardize gender entries to 'Male', 'Female', or 'Other'\n",
        "hr_data_cleaned['Gender'] = hr_data_cleaned['Gender'].map(lambda x: x.strip().lower())\n",
        "hr_data_cleaned['Gender'] = hr_data_cleaned['Gender'].replace({'m': 'Male', 'f': 'Female'})"
      ],
      "metadata": {
        "id": "TaFbFqE7FVtZ"
      },
      "execution_count": 15,
      "outputs": []
    },
    {
      "cell_type": "code",
      "source": [
        "# 2. Sanitize 'Marital_Status' column\n",
        "# Ensure consistency in marital status entries\n",
        "hr_data_cleaned['Marital_Status'] = hr_data_cleaned['Marital_Status'].map(lambda x: x.strip().lower().capitalize())"
      ],
      "metadata": {
        "id": "xpSDcxIAGQbY"
      },
      "execution_count": 16,
      "outputs": []
    },
    {
      "cell_type": "code",
      "source": [
        "# 3. Sanitize 'Business_Travel' column\n",
        "# Standardize levels of business travel\n",
        "hr_data_cleaned['Business_Travel'] = hr_data_cleaned['Business_Travel'].map(lambda x: x.strip().lower().capitalize())"
      ],
      "metadata": {
        "id": "h9XohK9qGT6e"
      },
      "execution_count": 17,
      "outputs": []
    },
    {
      "cell_type": "code",
      "source": [
        "# Display the sanitized dataset\n",
        "print(hr_data_cleaned[['Gender', 'Marital_Status', 'Business_Travel']].head())"
      ],
      "metadata": {
        "colab": {
          "base_uri": "https://localhost:8080/"
        },
        "id": "Pv-T3p7NGY70",
        "outputId": "10daab98-03b5-4bcd-9277-6f150f47931a"
      },
      "execution_count": 18,
      "outputs": [
        {
          "output_type": "stream",
          "name": "stdout",
          "text": [
            "   Gender Marital_Status    Business_Travel\n",
            "0  female         Single      Travel_rarely\n",
            "1    male        Married  Travel_frequently\n",
            "2    male         Single      Travel_rarely\n",
            "3  female        Married  Travel_frequently\n",
            "4    male        Married      Travel_rarely\n"
          ]
        }
      ]
    },
    {
      "cell_type": "code",
      "source": [
        "# Save the sanitized dataset\n",
        "hr_data_cleaned.to_csv('sanitized_hr_data.csv', index=False)"
      ],
      "metadata": {
        "id": "Q9IFqxQnGdU6"
      },
      "execution_count": 19,
      "outputs": []
    },
    {
      "cell_type": "markdown",
      "source": [
        "Eliminate NaN values from the dataset\n"
      ],
      "metadata": {
        "id": "5jitsnZqG0pk"
      }
    },
    {
      "cell_type": "code",
      "source": [
        "\n",
        "hr_data_cleaned = hr_data_cleaned.dropna()"
      ],
      "metadata": {
        "id": "36qoXO4wGiPO"
      },
      "execution_count": 20,
      "outputs": []
    },
    {
      "cell_type": "code",
      "source": [
        "# Display the shape of the dataset after removing NaN values\n",
        "print(\"Shape of dataset after removing NaN values:\", hr_data_cleaned.shape)"
      ],
      "metadata": {
        "colab": {
          "base_uri": "https://localhost:8080/"
        },
        "id": "iPqVchgPG4zK",
        "outputId": "35132d12-c64e-4dfd-ec46-5584847113fc"
      },
      "execution_count": 21,
      "outputs": [
        {
          "output_type": "stream",
          "name": "stdout",
          "text": [
            "Shape of dataset after removing NaN values: (1470, 31)\n"
          ]
        }
      ]
    },
    {
      "cell_type": "code",
      "source": [
        "# Save the dataset without NaN values\n",
        "hr_data_cleaned.to_csv('hr_data_without_nan.csv', index=False)"
      ],
      "metadata": {
        "id": "1XnLdjoRG9h-"
      },
      "execution_count": 22,
      "outputs": []
    },
    {
      "cell_type": "code",
      "source": [
        "print(hr_data_cleaned)"
      ],
      "metadata": {
        "colab": {
          "base_uri": "https://localhost:8080/"
        },
        "id": "bG8OAy5PHBMq",
        "outputId": "3994a449-ffa3-4066-9509-1cd6280d41f2"
      },
      "execution_count": 23,
      "outputs": [
        {
          "output_type": "stream",
          "name": "stdout",
          "text": [
            "      Age Attrition    Business_Travel  Daily_Rate              Department  \\\n",
            "0      41       Yes      Travel_rarely        1102                   Sales   \n",
            "1      49        No  Travel_frequently         279  Research & Development   \n",
            "2      37       Yes      Travel_rarely        1373  Research & Development   \n",
            "3      33        No  Travel_frequently        1392  Research & Development   \n",
            "4      27        No      Travel_rarely         591  Research & Development   \n",
            "...   ...       ...                ...         ...                     ...   \n",
            "1465   36        No  Travel_frequently         884  Research & Development   \n",
            "1466   39        No      Travel_rarely         613  Research & Development   \n",
            "1467   27        No      Travel_rarely         155  Research & Development   \n",
            "1468   49        No  Travel_frequently        1023                   Sales   \n",
            "1469   34        No      Travel_rarely         628  Research & Development   \n",
            "\n",
            "      Distance_From_Home  Education Education_Field  Environment_Satisfaction  \\\n",
            "0                      1          2   Life Sciences                         2   \n",
            "1                      8          1   Life Sciences                         3   \n",
            "2                      2          2           Other                         4   \n",
            "3                      3          4   Life Sciences                         4   \n",
            "4                      2          1         Medical                         1   \n",
            "...                  ...        ...             ...                       ...   \n",
            "1465                  23          2         Medical                         3   \n",
            "1466                   6          1         Medical                         4   \n",
            "1467                   4          3   Life Sciences                         2   \n",
            "1468                   2          3         Medical                         4   \n",
            "1469                   8          3         Medical                         2   \n",
            "\n",
            "      Gender  ...  Performance_Rating  Relationship_Satisfaction  \\\n",
            "0     female  ...                   3                          1   \n",
            "1       male  ...                   4                          4   \n",
            "2       male  ...                   3                          2   \n",
            "3     female  ...                   3                          3   \n",
            "4       male  ...                   3                          4   \n",
            "...      ...  ...                 ...                        ...   \n",
            "1465    male  ...                   3                          3   \n",
            "1466    male  ...                   3                          1   \n",
            "1467    male  ...                   4                          2   \n",
            "1468    male  ...                   3                          4   \n",
            "1469    male  ...                   3                          1   \n",
            "\n",
            "      Stock_Option_Level Total_Working_Years  Training_Times_Last_Year  \\\n",
            "0                      0                   8                         0   \n",
            "1                      1                  10                         3   \n",
            "2                      0                   7                         3   \n",
            "3                      0                   8                         3   \n",
            "4                      1                   6                         3   \n",
            "...                  ...                 ...                       ...   \n",
            "1465                   1                  17                         3   \n",
            "1466                   1                   9                         5   \n",
            "1467                   1                   6                         0   \n",
            "1468                   0                  17                         3   \n",
            "1469                   0                   6                         3   \n",
            "\n",
            "     Work_Life_Balance  Years_At_Company  Years_In_Current_Role  \\\n",
            "0                    1                 6                      4   \n",
            "1                    3                10                      7   \n",
            "2                    3                 0                      0   \n",
            "3                    3                 8                      7   \n",
            "4                    3                 2                      2   \n",
            "...                ...               ...                    ...   \n",
            "1465                 3                 5                      2   \n",
            "1466                 3                 7                      7   \n",
            "1467                 3                 6                      2   \n",
            "1468                 2                 9                      6   \n",
            "1469                 4                 4                      3   \n",
            "\n",
            "      Years_Since_Last_Promotion Years_With_Curr_Manager  \n",
            "0                              0                       5  \n",
            "1                              1                       7  \n",
            "2                              0                       0  \n",
            "3                              3                       0  \n",
            "4                              2                       2  \n",
            "...                          ...                     ...  \n",
            "1465                           0                       3  \n",
            "1466                           1                       7  \n",
            "1467                           0                       3  \n",
            "1468                           0                       8  \n",
            "1469                           1                       2  \n",
            "\n",
            "[1470 rows x 31 columns]\n"
          ]
        }
      ]
    },
    {
      "cell_type": "markdown",
      "source": [
        "Looking For Few More Changes\n"
      ],
      "metadata": {
        "id": "MdV4LJY2Uf0B"
      }
    },
    {
      "cell_type": "code",
      "source": [
        "from scipy import stats\n",
        "from sklearn.preprocessing import MinMaxScaler"
      ],
      "metadata": {
        "id": "ANI6fSGDHOqK"
      },
      "execution_count": 24,
      "outputs": []
    },
    {
      "cell_type": "code",
      "source": [
        "# 1. Outlier Detection and Handling using Z-score\n",
        "z_scores = stats.zscore(hr_data_cleaned.select_dtypes(include=['int64', 'float64']))\n",
        "abs_z_scores = abs(z_scores)\n",
        "filtered_entries = (abs_z_scores < 3).all(axis=1)\n",
        "hr_data_cleaned = hr_data_cleaned[filtered_entries]"
      ],
      "metadata": {
        "id": "k4GWCtK2UnSw"
      },
      "execution_count": 25,
      "outputs": []
    },
    {
      "cell_type": "code",
      "source": [
        "# 2. Encoding Categorical Variables (One-hot encoding)\n",
        "hr_data_encoded = pd.get_dummies(hr_data_cleaned, columns=['Business_Travel', 'Department', 'Education_Field', 'Job_Role', 'Marital_Status'])"
      ],
      "metadata": {
        "id": "4d_VCLuzUy6I"
      },
      "execution_count": 26,
      "outputs": []
    },
    {
      "cell_type": "code",
      "source": [
        "# 3. Feature Engineering: Calculate total years in current role and with current manager\n",
        "hr_data_encoded['Total_Years_In_Current_Role_Manager'] = hr_data_encoded['Years_In_Current_Role'] + hr_data_encoded['Years_With_Curr_Manager']"
      ],
      "metadata": {
        "id": "D_vE9UZMU7f1"
      },
      "execution_count": 27,
      "outputs": []
    },
    {
      "cell_type": "code",
      "source": [
        "# 4. Normalization/Standardization using MinMaxScaler\n",
        "scaler = MinMaxScaler()\n",
        "numerical_cols = ['Age', 'Daily_Rate', 'Distance_From_Home', 'Hourly_Rate', 'Percent_Salary_Hike', 'Total_Working_Years', 'Training_Times_Last_Year', 'Years_At_Company', 'Years_Since_Last_Promotion', 'Total_Years_In_Current_Role_Manager']"
      ],
      "metadata": {
        "id": "85rAJSBGVNwx"
      },
      "execution_count": 28,
      "outputs": []
    },
    {
      "cell_type": "code",
      "source": [
        "\n",
        "# Display the processed dataset\n",
        "print(hr_data_encoded.head())"
      ],
      "metadata": {
        "colab": {
          "base_uri": "https://localhost:8080/"
        },
        "id": "QCv5qlrfVZhi",
        "outputId": "0aa0f2de-a78b-4728-951a-927a5c782982"
      },
      "execution_count": 30,
      "outputs": [
        {
          "output_type": "stream",
          "name": "stdout",
          "text": [
            "   Age Attrition  Daily_Rate  Distance_From_Home  Education  \\\n",
            "0   41       Yes        1102                   1          2   \n",
            "1   49        No         279                   8          1   \n",
            "2   37       Yes        1373                   2          2   \n",
            "3   33        No        1392                   3          4   \n",
            "4   27        No         591                   2          1   \n",
            "\n",
            "   Environment_Satisfaction  Gender  Hourly_Rate  Job_Involvement  Job_Level  \\\n",
            "0                         2  female           94                3          2   \n",
            "1                         3    male           61                2          2   \n",
            "2                         4    male           92                2          1   \n",
            "3                         4  female           56                3          1   \n",
            "4                         1    male           40                3          1   \n",
            "\n",
            "   ...  Job_Role_Manager  Job_Role_Manufacturing Director  \\\n",
            "0  ...                 0                                0   \n",
            "1  ...                 0                                0   \n",
            "2  ...                 0                                0   \n",
            "3  ...                 0                                0   \n",
            "4  ...                 0                                0   \n",
            "\n",
            "   Job_Role_Research Director  Job_Role_Research Scientist  \\\n",
            "0                           0                            0   \n",
            "1                           0                            1   \n",
            "2                           0                            0   \n",
            "3                           0                            1   \n",
            "4                           0                            0   \n",
            "\n",
            "  Job_Role_Sales Executive  Job_Role_Sales Representative  \\\n",
            "0                        1                              0   \n",
            "1                        0                              0   \n",
            "2                        0                              0   \n",
            "3                        0                              0   \n",
            "4                        0                              0   \n",
            "\n",
            "   Marital_Status_Divorced  Marital_Status_Married  Marital_Status_Single  \\\n",
            "0                        0                       0                      1   \n",
            "1                        0                       1                      0   \n",
            "2                        0                       0                      1   \n",
            "3                        0                       1                      0   \n",
            "4                        0                       1                      0   \n",
            "\n",
            "   Total_Years_In_Current_Role_Manager  \n",
            "0                                    9  \n",
            "1                                   14  \n",
            "2                                    0  \n",
            "3                                    7  \n",
            "4                                    4  \n",
            "\n",
            "[5 rows x 51 columns]\n"
          ]
        }
      ]
    },
    {
      "cell_type": "code",
      "source": [
        "# Save the processed dataset\n",
        "hr_data_encoded.to_csv('processed_hr_data.csv', index=False)"
      ],
      "metadata": {
        "id": "Pp0-vLY0VTHF"
      },
      "execution_count": 31,
      "outputs": []
    }
  ]
}